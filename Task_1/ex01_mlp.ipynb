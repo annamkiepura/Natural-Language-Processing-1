{
  "cells": [
    {
      "cell_type": "markdown",
      "metadata": {
        "id": "-EdoqaVIB9t3"
      },
      "source": [
        "### Language Identification with Multilayer Perceptron Classifier (MLPC)"
      ]
    },
    {
      "cell_type": "code",
      "execution_count": 1,
      "metadata": {
        "colab": {
          "base_uri": "https://localhost:8080/",
          "height": 35
        },
        "id": "jdqukxV5nDf_",
        "outputId": "097f276f-ce1f-4bc6-fa8f-4602ebe2c0bd"
      },
      "outputs": [
        {
          "output_type": "execute_result",
          "data": {
            "text/plain": [
              "'/device:GPU:0'"
            ],
            "application/vnd.google.colaboratory.intrinsic+json": {
              "type": "string"
            }
          },
          "metadata": {},
          "execution_count": 1
        }
      ],
      "source": [
        "#Check the GPU\n",
        "import tensorflow as tf\n",
        "tf.test.gpu_device_name()"
      ]
    },
    {
      "cell_type": "code",
      "execution_count": 2,
      "metadata": {
        "colab": {
          "base_uri": "https://localhost:8080/"
        },
        "id": "relSBrLLnkmI",
        "outputId": "d8c0e2ac-0183-43b3-939d-0d69d72147c9"
      },
      "outputs": [
        {
          "output_type": "stream",
          "name": "stdout",
          "text": [
            "Looking in indexes: https://pypi.org/simple, https://us-python.pkg.dev/colab-wheels/public/simple/\n",
            "Requirement already satisfied: emoji in /usr/local/lib/python3.7/dist-packages (2.1.0)\n"
          ]
        }
      ],
      "source": [
        "#Installing emoji package\n",
        "!pip install emoji"
      ]
    },
    {
      "cell_type": "code",
      "execution_count": 3,
      "metadata": {
        "colab": {
          "base_uri": "https://localhost:8080/"
        },
        "id": "H9qlIc1onkr-",
        "outputId": "63de071e-5ad1-4b3b-903f-c447630a7b0a"
      },
      "outputs": [
        {
          "output_type": "stream",
          "name": "stderr",
          "text": [
            "[nltk_data] Downloading package wordnet to /root/nltk_data...\n",
            "[nltk_data]   Package wordnet is already up-to-date!\n",
            "[nltk_data] Downloading package omw-1.4 to /root/nltk_data...\n",
            "[nltk_data]   Package omw-1.4 is already up-to-date!\n"
          ]
        }
      ],
      "source": [
        "#Importing all necessary packages and libraries\n",
        "\n",
        "from google.colab import drive\n",
        "import pandas as pd\n",
        "import numpy as np\n",
        "import re\n",
        "import emoji\n",
        "from sklearn.feature_extraction.text import CountVectorizer\n",
        "import nltk\n",
        "nltk.download('wordnet')\n",
        "nltk.download('omw-1.4')\n",
        "from nltk.stem import WordNetLemmatizer\n",
        "from scipy import sparse\n",
        "from sklearn.feature_extraction.text import TfidfTransformer\n",
        "from sklearn.preprocessing import LabelEncoder\n",
        "from sklearn.model_selection import GridSearchCV\n",
        "from sklearn.linear_model import LogisticRegression\n",
        "from sklearn.pipeline import Pipeline, FeatureUnion\n",
        "from sklearn.base import TransformerMixin, BaseEstimator\n",
        "import pickle\n",
        "from sklearn.model_selection import train_test_split\n",
        "import re\n",
        "import scipy\n",
        "from sklearn.metrics import precision_score, recall_score, f1_score, confusion_matrix\n",
        "import matplotlib.pyplot as plt\n",
        "from mpl_toolkits.axes_grid1 import make_axes_locatable"
      ]
    },
    {
      "cell_type": "code",
      "execution_count": 4,
      "metadata": {
        "id": "fp7cbu_SnHrH"
      },
      "outputs": [],
      "source": [
        "#Function to load the train and test datasets to pandas DataFrames\n",
        "def load_df(file_path):\n",
        "    df = pd.read_csv(file_path, on_bad_lines=\"skip\", sep = \"\\t\")\n",
        "    df = pd.DataFrame(np.vstack([df.columns, df]))\n",
        "    df.rename(columns={0: \"text\", 1: \"language\"}, inplace=True)\n",
        "    return df"
      ]
    },
    {
      "cell_type": "code",
      "execution_count": 5,
      "metadata": {
        "colab": {
          "base_uri": "https://localhost:8080/"
        },
        "id": "QKoTFfnFnHxS",
        "outputId": "1b83d5eb-07b2-4e28-d989-2310f3d694fa"
      },
      "outputs": [
        {
          "output_type": "stream",
          "name": "stdout",
          "text": [
            "Drive already mounted at /content/drive; to attempt to forcibly remount, call drive.mount(\"/content/drive\", force_remount=True).\n"
          ]
        }
      ],
      "source": [
        "#Mounting google drive\n",
        "from google.colab import drive\n",
        "drive.mount('/content/drive')"
      ]
    },
    {
      "cell_type": "code",
      "execution_count": 6,
      "metadata": {
        "colab": {
          "base_uri": "https://localhost:8080/"
        },
        "id": "eVx1FAt9nH2U",
        "outputId": "226e123f-f576-4e30-e892-08b31f4af4c9"
      },
      "outputs": [
        {
          "output_type": "stream",
          "name": "stdout",
          "text": [
            "/content/drive/My Drive/ML4NLP_Assignment1\n"
          ]
        }
      ],
      "source": [
        "#Changing the working directory to the drive folder where you store the data\n",
        "%cd /content/drive/My Drive/ML4NLP_Assignment1"
      ]
    },
    {
      "cell_type": "code",
      "execution_count": 7,
      "metadata": {
        "id": "62Uxah1EnH7I"
      },
      "outputs": [],
      "source": [
        "#Loading the train and test datasets to pandas Dataframe\n",
        "train_df_path = \"/content/drive/My Drive/ML4NLP_Assignment1/train_dev_set+-+train_dev_set.csv\"\n",
        "test_df_path = \"/content/drive/My Drive/ML4NLP_Assignment1/test_set+-+test_set.csv\"\n",
        "train_df = load_df(train_df_path)\n",
        "test_df = load_df(test_df_path)"
      ]
    },
    {
      "cell_type": "code",
      "execution_count": 8,
      "metadata": {
        "id": "afQwrn0doK2A"
      },
      "outputs": [],
      "source": [
        "#Assigning the text of tweets to X variable in train and test datasets \n",
        "#Assigning the language of tweets to y variable (label) in train and test datasets\n",
        "X_train = train_df.text\n",
        "y_train = train_df.language\n",
        "X_test = test_df.text\n",
        "y_test = test_df.language"
      ]
    },
    {
      "cell_type": "code",
      "source": [
        "label_encoder = LabelEncoder()\n",
        "full_y = np.append(y_train, y_test)\n",
        "full_y = label_encoder.fit_transform(full_y)\n",
        "y_train = full_y[:y_train.size]\n",
        "y_test = full_y[y_train.size:]"
      ],
      "metadata": {
        "id": "yFksDbiD6fLe"
      },
      "execution_count": 9,
      "outputs": []
    },
    {
      "cell_type": "code",
      "source": [
        "X_train, X_val, y_train, y_val = train_test_split(X_train, y_train, test_size=0.1, random_state=42)"
      ],
      "metadata": {
        "id": "TDdnwHFW6g2d"
      },
      "execution_count": 10,
      "outputs": []
    },
    {
      "cell_type": "code",
      "source": [
        "y_train = list(map(int, y_train))\n",
        "y_val = list(map(int, y_val))\n",
        "y_test = list(map(int, y_test))"
      ],
      "metadata": {
        "id": "SFboKOoH6m5x"
      },
      "execution_count": 11,
      "outputs": []
    },
    {
      "cell_type": "markdown",
      "metadata": {
        "id": "W_sHHma2oyMf"
      },
      "source": [
        "## Defining Extra Features"
      ]
    },
    {
      "cell_type": "code",
      "execution_count": 12,
      "metadata": {
        "id": "RUWRbEM3oo4i"
      },
      "outputs": [],
      "source": [
        "class Preprocessing(BaseEstimator, TransformerMixin):\n",
        "    def __init__(self, purpose):\n",
        "        self.purpose = purpose\n",
        "\n",
        "    # LOWERCASING\n",
        "    def convert_lowercase(self, text):\n",
        "        text = text.str.lower()\n",
        "        return text\n",
        "\n",
        "    # REMOVING HTML TAGS AND URLS\n",
        "    def remove_html_url(self, text):\n",
        "        re_html = re.compile(\"<.*?>\")\n",
        "        re_url = re.compile(\"https?://\\S+|www\\.\\S+\")\n",
        "        wo_html_str = re_html.sub(r\"\", text)\n",
        "        wo_html_url_str = re_url.sub(\"\", wo_html_str)\n",
        "        return wo_html_url_str\n",
        "\n",
        "    # REMOVING EMOJIS\n",
        "    def remove_emoji(self, text):\n",
        "        text = emoji.demojize(text)\n",
        "        return text\n",
        "\n",
        "    # LEMMATISATION\n",
        "    def lemmatisation(self, text):\n",
        "        lemmatiser = WordNetLemmatizer()\n",
        "        return lemmatiser.lemmatize(text)\n",
        "\n",
        "    def fit(self, X, y):\n",
        "        return self\n",
        "\n",
        "    def transform(self, X):\n",
        "        res = X.apply(self.remove_html_url)\n",
        "        res = res.apply(self.remove_emoji)\n",
        "        if self.purpose == \"preprocess\":\n",
        "            res = self.convert_lowercase(res)\n",
        "            res = res.apply(self.lemmatisation)\n",
        "        return res"
      ]
    },
    {
      "cell_type": "code",
      "execution_count": 13,
      "metadata": {
        "id": "DB1v1E8aoLBm"
      },
      "outputs": [],
      "source": [
        "preprocess = Preprocessing(\"generate_extra_features\")\n",
        "X_train_extra_feature = preprocess.fit_transform(X_train, y_train)\n",
        "X_val_extra_feature = preprocess.transform(X_val)\n",
        "X_test_extra_feature = preprocess.transform(X_test)"
      ]
    },
    {
      "cell_type": "code",
      "execution_count": 14,
      "metadata": {
        "id": "KK_o6JbXnW4n"
      },
      "outputs": [],
      "source": [
        "# Function to count the number of spaces in a sentence\n",
        "\n",
        "def count_space(text):\n",
        "    return text.count(\" \")\n",
        "X_train_num_space = X_train_extra_feature.apply(count_space)\n",
        "X_val_num_space = X_val_extra_feature.apply(count_space)\n",
        "X_test_num_space = X_test_extra_feature.apply(count_space)\n",
        "X_num_space = [X_train_num_space, X_val_num_space, X_test_num_space]"
      ]
    },
    {
      "cell_type": "code",
      "execution_count": 15,
      "metadata": {
        "id": "tNSeJOMMnW_G"
      },
      "outputs": [],
      "source": [
        "#Function to calculate the Average Word Length \n",
        "def avg_word_len(text):\n",
        "    text = re.sub(r\"[^\\w\\s]\", \"\", text)\n",
        "    num_char = len(text) - text.count(\" \")\n",
        "    num_word = len(text.split())\n",
        "    try:\n",
        "        res = num_char/num_word\n",
        "    except:\n",
        "        res = 0\n",
        "    return res\n",
        "X_train_avg_word_len = X_train_extra_feature.apply(avg_word_len)\n",
        "X_val_avg_word_len = X_val_extra_feature.apply(avg_word_len)\n",
        "X_test_avg_word_len = X_test_extra_feature.apply(avg_word_len)\n",
        "X_avg_word_len = [X_train_avg_word_len, X_val_avg_word_len, X_test_avg_word_len]"
      ]
    },
    {
      "cell_type": "code",
      "execution_count": 16,
      "metadata": {
        "id": "G-eW4SPXpF6o"
      },
      "outputs": [],
      "source": [
        "# Function to count the number of capital letters in a sentence\n",
        "\n",
        "def num_capital(text):\n",
        "    return len(re.findall(r\"[A-Z]\", text))\n",
        "X_train_num_capital = X_train_extra_feature.apply(num_capital)\n",
        "X_val_num_capital = X_val_extra_feature.apply(num_capital)\n",
        "X_test_num_capital = X_test_extra_feature.apply(num_capital)\n",
        "X_num_capital = [X_train_num_capital, X_val_num_capital, X_test_num_capital]"
      ]
    },
    {
      "cell_type": "markdown",
      "metadata": {
        "id": "dWB6JsSypQkY"
      },
      "source": [
        "## Preprocessing"
      ]
    },
    {
      "cell_type": "code",
      "execution_count": 17,
      "metadata": {
        "id": "wnppoDgFpF_9"
      },
      "outputs": [],
      "source": [
        "class ExtraFeature(BaseEstimator, TransformerMixin):\n",
        "    def __init__(self, X_feature):\n",
        "        self.X_feature = X_feature\n",
        "\n",
        "\n",
        "    def fit(self, X, y):\n",
        "        return self\n",
        "\n",
        "    def transform(self, X):\n",
        "        features = []\n",
        "        if X.shape[0] == len(self.X_feature[0]):\n",
        "            features.append(self.X_feature[0])\n",
        "        elif X.shape[0] == len(self.X_feature[1]):\n",
        "            features.append(self.X_feature[1])\n",
        "        elif X.shape[0] == len(self.X_feature[2]):\n",
        "            features.append(self.X_feature[2])\n",
        "        return np.array(features).T\n",
        "    \n",
        "    # def get_feature_names_out(self):\n",
        "    #     return np.array([self.feature_name])"
      ]
    },
    {
      "cell_type": "markdown",
      "metadata": {
        "id": "_L4Z3_AiDake"
      },
      "source": [
        "## Saving pre-processed data\n"
      ]
    },
    {
      "cell_type": "code",
      "source": [
        "count_vect = Preprocessing(\"preprocess\")\n",
        "X_train_1 = count_vect.fit_transform(X_train, y_train)\n",
        "X_val_1 = count_vect.transform(X_val)\n",
        "X_test_1 = count_vect.transform(X_test)"
      ],
      "metadata": {
        "id": "H6qfCW4pStbT"
      },
      "execution_count": 18,
      "outputs": []
    },
    {
      "cell_type": "code",
      "source": [
        "count_vect = CountVectorizer()\n",
        "X_train_2 = count_vect.fit_transform(X_train_1)\n",
        "X_val_2 = count_vect.transform(X_val_1)\n",
        "X_test_2 = count_vect.transform(X_test_1)"
      ],
      "metadata": {
        "id": "Js60c924Svam"
      },
      "execution_count": 19,
      "outputs": []
    },
    {
      "cell_type": "code",
      "source": [
        "union = FeatureUnion([(\"tfidf\", TfidfTransformer()), \\\n",
        "                    (\"num_space\", ExtraFeature(X_num_space)), \\\n",
        "                    (\"avg_word_len\", ExtraFeature(X_avg_word_len)), \\\n",
        "                    (\"num_capital\", ExtraFeature(X_num_capital))])\n",
        "union_fit_train = union.fit_transform(X_train_2, y_train)\n",
        "union_fit_val = union.transform(X_val_2)\n",
        "union_fit_test = union.transform(X_test_2)"
      ],
      "metadata": {
        "id": "wQZABqO-Svhp"
      },
      "execution_count": 20,
      "outputs": []
    },
    {
      "cell_type": "code",
      "source": [
        "scipy.sparse.save_npz(\"/content/drive/My Drive/ML4NLP_Assignment1/X_train2.npz\", union_fit_train)\n",
        "scipy.sparse.save_npz(\"/content/drive/My Drive/ML4NLP_Assignment1/X_val2.npz\", union_fit_val)\n",
        "scipy.sparse.save_npz(\"/content/drive/My Drive/ML4NLP_Assignment1/X_test2.npz\", union_fit_test)"
      ],
      "metadata": {
        "id": "Ez0gGnKfSvoL"
      },
      "execution_count": 21,
      "outputs": []
    },
    {
      "cell_type": "markdown",
      "metadata": {
        "id": "aXyqrUWeBHL5"
      },
      "source": [
        "## Loading pre-processed data"
      ]
    },
    {
      "cell_type": "code",
      "execution_count": 22,
      "metadata": {
        "id": "R8RVdpFRBGod"
      },
      "outputs": [],
      "source": [
        "import scipy.sparse"
      ]
    },
    {
      "cell_type": "code",
      "execution_count": 23,
      "metadata": {
        "id": "gk93gxgduD2d"
      },
      "outputs": [],
      "source": [
        "#We are loading the pre-processed train, test, and validation datasets\n",
        "X_train = scipy.sparse.load_npz(\"X_train2.npz\")\n",
        "X_test = scipy.sparse.load_npz(\"X_test2.npz\")\n",
        "X_val = scipy.sparse.load_npz(\"X_val2.npz\")"
      ]
    },
    {
      "cell_type": "markdown",
      "metadata": {
        "id": "PFWV5Dx8D-pw"
      },
      "source": [
        "## Implementing and training the MLPClassifier"
      ]
    },
    {
      "cell_type": "code",
      "execution_count": 24,
      "metadata": {
        "id": "HJPzWV9JBApb"
      },
      "outputs": [],
      "source": [
        "from sklearn.neural_network import MLPClassifier"
      ]
    },
    {
      "cell_type": "markdown",
      "metadata": {
        "id": "Dz4eXc1TEOTi"
      },
      "source": [
        "## First set of parameters"
      ]
    },
    {
      "cell_type": "code",
      "execution_count": null,
      "metadata": {
        "colab": {
          "base_uri": "https://localhost:8080/"
        },
        "id": "yhp00YdRpGHR",
        "outputId": "2369d0bb-34b1-4fb0-9a45-dae6a60862bb"
      },
      "outputs": [
        {
          "name": "stderr",
          "output_type": "stream",
          "text": [
            "/usr/local/lib/python3.7/dist-packages/sklearn/neural_network/_multilayer_perceptron.py:696: ConvergenceWarning: Stochastic Optimizer: Maximum iterations (20) reached and the optimization hasn't converged yet.\n",
            "  ConvergenceWarning,\n"
          ]
        },
        {
          "data": {
            "text/plain": [
              "MLPClassifier(max_iter=20)"
            ]
          },
          "execution_count": 46,
          "metadata": {},
          "output_type": "execute_result"
        }
      ],
      "source": [
        "#We are trying out the first combination of parameters for the MLPC on the Train dataset\n",
        "clf = MLPClassifier(activation='relu', solver='adam', learning_rate='constant', max_iter=20)\n",
        "clf.fit(X_train, y_train)"
      ]
    },
    {
      "cell_type": "code",
      "execution_count": null,
      "metadata": {
        "id": "3DO1VBLw8MJP"
      },
      "outputs": [],
      "source": [
        "#Making predictions on the validation dataset\n",
        "y_pred = clf.predict(X_val)"
      ]
    },
    {
      "cell_type": "code",
      "execution_count": null,
      "metadata": {
        "id": "qgEunlEK8MSA"
      },
      "outputs": [],
      "source": [
        "#Building the confusion matrix to enable accuracy analysis\n",
        "from sklearn.metrics import confusion_matrix\n",
        "cm = confusion_matrix(y_pred, y_val)"
      ]
    },
    {
      "cell_type": "code",
      "execution_count": null,
      "metadata": {
        "id": "aFC1Ef-FBWb2"
      },
      "outputs": [],
      "source": [
        "#Function calculate the accuracy on our predictions on the validation dataset\n",
        "def accuracy(confusion_matrix):\n",
        "   diagonal_sum = confusion_matrix.trace()\n",
        "   sum_of_all_elements = confusion_matrix.sum()\n",
        "   return diagonal_sum / sum_of_all_elements"
      ]
    },
    {
      "cell_type": "code",
      "execution_count": null,
      "metadata": {
        "colab": {
          "base_uri": "https://localhost:8080/"
        },
        "id": "koImnpETE-nH",
        "outputId": "0309cd98-00c7-4b2d-e29a-780a21d9dd9c"
      },
      "outputs": [
        {
          "name": "stdout",
          "output_type": "stream",
          "text": [
            "Accuracy of MLPClassifier : 0.869969627942293\n"
          ]
        }
      ],
      "source": [
        "#Displaying the accuracy of our classifier\n",
        "print(\"Accuracy of MLPClassifier : \" + str(accuracy(cm)))"
      ]
    },
    {
      "cell_type": "markdown",
      "metadata": {
        "id": "pUL2gYlWBptS"
      },
      "source": [
        "## Different set of hyperparameters"
      ]
    },
    {
      "cell_type": "code",
      "execution_count": null,
      "metadata": {
        "colab": {
          "base_uri": "https://localhost:8080/"
        },
        "id": "e82HtlgpE-tF",
        "outputId": "7704c73d-c5fd-4695-e663-e0de7be7179f"
      },
      "outputs": [
        {
          "name": "stderr",
          "output_type": "stream",
          "text": [
            "/usr/local/lib/python3.7/dist-packages/sklearn/neural_network/_multilayer_perceptron.py:696: ConvergenceWarning: Stochastic Optimizer: Maximum iterations (20) reached and the optimization hasn't converged yet.\n",
            "  ConvergenceWarning,\n"
          ]
        },
        {
          "data": {
            "text/plain": [
              "MLPClassifier(learning_rate='adaptive', max_iter=20)"
            ]
          },
          "execution_count": 54,
          "metadata": {},
          "output_type": "execute_result"
        }
      ],
      "source": [
        "#We try a different learning rate\n",
        "clf = MLPClassifier(activation='relu', solver='adam', learning_rate='adaptive', max_iter=20)\n",
        "clf.fit(X_train, y_train)"
      ]
    },
    {
      "cell_type": "code",
      "execution_count": null,
      "metadata": {
        "id": "m03HEnwPGtdV"
      },
      "outputs": [],
      "source": [
        "#Making predictions on the validation dataset\n",
        "y_pred = clf.predict(X_val)"
      ]
    },
    {
      "cell_type": "code",
      "execution_count": null,
      "metadata": {
        "id": "4i6gJSoSBn0b"
      },
      "outputs": [],
      "source": [
        "#Building the confusion matrix to enable accuracy analysis\n",
        "cm = confusion_matrix(y_pred, y_val)"
      ]
    },
    {
      "cell_type": "code",
      "execution_count": null,
      "metadata": {
        "colab": {
          "base_uri": "https://localhost:8080/"
        },
        "id": "OhXz4RnoBn59",
        "outputId": "8953e760-b043-49b1-ac57-559aebaed647"
      },
      "outputs": [
        {
          "name": "stdout",
          "output_type": "stream",
          "text": [
            "Accuracy of MLPClassifier : 0.8593394077448747\n"
          ]
        }
      ],
      "source": [
        "#Displaying the accuracy of our classifier\n",
        "print(\"Accuracy of MLPClassifier : \" + str(accuracy(cm)))"
      ]
    },
    {
      "cell_type": "markdown",
      "metadata": {
        "id": "Pd5cIbYPHJgz"
      },
      "source": [
        "## Different set of hyperparameters"
      ]
    },
    {
      "cell_type": "code",
      "execution_count": null,
      "metadata": {
        "colab": {
          "base_uri": "https://localhost:8080/"
        },
        "id": "VLrCUY6UHIkp",
        "outputId": "375f3a85-2c6a-42af-9a4a-ac37674152f5"
      },
      "outputs": [
        {
          "name": "stdout",
          "output_type": "stream",
          "text": [
            "Iteration 1, loss = 2.29290719\n",
            "Validation score: 0.497996\n",
            "Iteration 2, loss = 1.91293485\n",
            "Validation score: 0.492301\n",
            "Iteration 3, loss = 1.85840961\n",
            "Validation score: 0.496098\n",
            "Iteration 4, loss = 1.83054102\n",
            "Validation score: 0.495254\n",
            "Iteration 5, loss = 1.81349379\n",
            "Validation score: 0.499895\n",
            "Iteration 6, loss = 1.80023308\n",
            "Validation score: 0.497996\n",
            "Iteration 7, loss = 1.78889639\n",
            "Validation score: 0.494621\n",
            "Iteration 8, loss = 1.77965954\n",
            "Validation score: 0.496098\n",
            "Iteration 9, loss = 1.77175370\n",
            "Validation score: 0.500527\n",
            "Iteration 10, loss = 1.76410064\n",
            "Validation score: 0.502426\n",
            "Iteration 11, loss = 1.75695260\n",
            "Validation score: 0.500527\n",
            "Iteration 12, loss = 1.75052056\n",
            "Validation score: 0.502004\n",
            "Iteration 13, loss = 1.74418907\n",
            "Validation score: 0.505590\n",
            "Iteration 14, loss = 1.73787278\n",
            "Validation score: 0.504746\n",
            "Iteration 15, loss = 1.73288347\n",
            "Validation score: 0.503480\n",
            "Iteration 16, loss = 1.72726457\n",
            "Validation score: 0.503480\n",
            "Iteration 17, loss = 1.72261032\n",
            "Validation score: 0.506433\n",
            "Iteration 18, loss = 1.71760630\n",
            "Validation score: 0.505590\n",
            "Iteration 19, loss = 1.71235971\n",
            "Validation score: 0.507488\n",
            "Iteration 20, loss = 1.70807751\n",
            "Validation score: 0.507488\n"
          ]
        },
        {
          "name": "stderr",
          "output_type": "stream",
          "text": [
            "/usr/local/lib/python3.7/dist-packages/sklearn/neural_network/_multilayer_perceptron.py:696: ConvergenceWarning: Stochastic Optimizer: Maximum iterations (20) reached and the optimization hasn't converged yet.\n",
            "  ConvergenceWarning,\n"
          ]
        },
        {
          "data": {
            "text/plain": [
              "MLPClassifier(early_stopping=True, learning_rate='adaptive', max_iter=20,\n",
              "              solver='sgd', verbose=True)"
            ]
          },
          "execution_count": 58,
          "metadata": {},
          "output_type": "execute_result"
        }
      ],
      "source": [
        "#We try a different solver\n",
        "clf = MLPClassifier(activation='relu', solver='sgd', learning_rate='adaptive', max_iter=20, verbose=True, early_stopping=True)\n",
        "clf.fit(X_train, y_train)"
      ]
    },
    {
      "cell_type": "code",
      "execution_count": null,
      "metadata": {
        "id": "4yQvZfL9HO1Y"
      },
      "outputs": [],
      "source": [
        "#Making predictions on the validation dataset\n",
        "y_pred = clf.predict(X_val)"
      ]
    },
    {
      "cell_type": "code",
      "execution_count": null,
      "metadata": {
        "id": "y0wxAm0RHO6-"
      },
      "outputs": [],
      "source": [
        "#Building the confusion matrix to enable accuracy analysis\n",
        "cm = confusion_matrix(y_pred, y_val)"
      ]
    },
    {
      "cell_type": "code",
      "execution_count": null,
      "metadata": {
        "colab": {
          "base_uri": "https://localhost:8080/"
        },
        "id": "CkMu2pJrFKln",
        "outputId": "10337b4f-4f51-415b-c17a-28037c541fb0"
      },
      "outputs": [
        {
          "name": "stdout",
          "output_type": "stream",
          "text": [
            "Accuracy of MLPClassifier : 0.5186028853454822\n"
          ]
        }
      ],
      "source": [
        "#Displaying the accuracy of our classifier\n",
        "print(\"Accuracy of MLPClassifier : \" + str(accuracy(cm)))"
      ]
    },
    {
      "cell_type": "markdown",
      "metadata": {
        "id": "omLaMQmcLazk"
      },
      "source": [
        "## Different set of hyperparameters"
      ]
    },
    {
      "cell_type": "code",
      "execution_count": null,
      "metadata": {
        "id": "jC4DODvTFKsH"
      },
      "outputs": [],
      "source": [
        "#We try a different activation function\n",
        "clf = MLPClassifier(activation='tanh', solver='adam', learning_rate='constant', max_iter=20, verbose=True)"
      ]
    },
    {
      "cell_type": "code",
      "execution_count": null,
      "metadata": {
        "colab": {
          "base_uri": "https://localhost:8080/"
        },
        "id": "m2QEcVcVLX_6",
        "outputId": "c9975036-8d67-4f28-eb69-5683761cdc4a"
      },
      "outputs": [
        {
          "name": "stdout",
          "output_type": "stream",
          "text": [
            "Iteration 1, loss = 1.70415255\n",
            "Iteration 2, loss = 0.88865955\n",
            "Iteration 3, loss = 0.54529338\n",
            "Iteration 4, loss = 0.32236137\n",
            "Iteration 5, loss = 0.19160281\n",
            "Iteration 6, loss = 0.12182755\n",
            "Iteration 7, loss = 0.08376082\n",
            "Iteration 8, loss = 0.06208866\n",
            "Iteration 9, loss = 0.04911463\n",
            "Iteration 10, loss = 0.04035194\n",
            "Iteration 11, loss = 0.03477388\n",
            "Iteration 12, loss = 0.02975043\n",
            "Iteration 13, loss = 0.02625765\n",
            "Iteration 14, loss = 0.02645950\n",
            "Iteration 15, loss = 0.02329319\n",
            "Iteration 16, loss = 0.02183325\n",
            "Iteration 17, loss = 0.02144269\n",
            "Iteration 18, loss = 0.02017548\n",
            "Iteration 19, loss = 0.01844078\n",
            "Iteration 20, loss = 0.01875031\n"
          ]
        },
        {
          "name": "stderr",
          "output_type": "stream",
          "text": [
            "/usr/local/lib/python3.7/dist-packages/sklearn/neural_network/_multilayer_perceptron.py:696: ConvergenceWarning: Stochastic Optimizer: Maximum iterations (20) reached and the optimization hasn't converged yet.\n",
            "  ConvergenceWarning,\n"
          ]
        },
        {
          "data": {
            "text/plain": [
              "MLPClassifier(activation='tanh', max_iter=20, verbose=True)"
            ]
          },
          "execution_count": 63,
          "metadata": {},
          "output_type": "execute_result"
        }
      ],
      "source": [
        "clf.fit(X_train, y_train)"
      ]
    },
    {
      "cell_type": "code",
      "execution_count": null,
      "metadata": {
        "id": "v6u0CBPfLxG3"
      },
      "outputs": [],
      "source": [
        "#Making predictions on the validation dataset\n",
        "y_pred = clf.predict(X_val)"
      ]
    },
    {
      "cell_type": "code",
      "execution_count": null,
      "metadata": {
        "id": "IX1wNnNLLxNS"
      },
      "outputs": [],
      "source": [
        "#Building the confusion matrix to enable accuracy analysis\n",
        "cm = confusion_matrix(y_pred, y_val)"
      ]
    },
    {
      "cell_type": "code",
      "execution_count": null,
      "metadata": {
        "colab": {
          "base_uri": "https://localhost:8080/"
        },
        "id": "52WaeLowQS0T",
        "outputId": "0b8ee765-e113-4b24-d183-ae23209887cf"
      },
      "outputs": [
        {
          "name": "stdout",
          "output_type": "stream",
          "text": [
            "Accuracy of MLPClassifier : 0.8652239939255885\n"
          ]
        }
      ],
      "source": [
        "#Displaying the accuracy of our classifier\n",
        "print(\"Accuracy of MLPClassifier : \" + str(accuracy(cm)))"
      ]
    },
    {
      "cell_type": "markdown",
      "metadata": {
        "id": "EPC9MwbsQdQe"
      },
      "source": [
        "## Different set of hyperparameters"
      ]
    },
    {
      "cell_type": "code",
      "execution_count": null,
      "metadata": {
        "id": "oYkl7mP2QS55"
      },
      "outputs": [],
      "source": [
        "#We try different hidden layers arrangement \n",
        "clf = MLPClassifier(activation='relu', solver='adam', learning_rate='constant', max_iter=20, verbose=True, hidden_layer_sizes = (45,2,11))"
      ]
    },
    {
      "cell_type": "code",
      "execution_count": null,
      "metadata": {
        "colab": {
          "base_uri": "https://localhost:8080/"
        },
        "id": "c_H1ynVgQchb",
        "outputId": "2b46141b-0efd-4d36-cef0-74343bc48b8f"
      },
      "outputs": [
        {
          "name": "stdout",
          "output_type": "stream",
          "text": [
            "Iteration 1, loss = 2.72139405\n",
            "Iteration 2, loss = 2.05269069\n",
            "Iteration 3, loss = 1.93477353\n",
            "Iteration 4, loss = 1.74244210\n",
            "Iteration 5, loss = 1.40683003\n",
            "Iteration 6, loss = 1.21251371\n",
            "Iteration 7, loss = 1.09295559\n",
            "Iteration 8, loss = 1.00493040\n",
            "Iteration 9, loss = 0.93313048\n",
            "Iteration 10, loss = 0.88030748\n",
            "Iteration 11, loss = 0.83810530\n",
            "Iteration 12, loss = 0.80250620\n",
            "Iteration 13, loss = 0.77098082\n",
            "Iteration 14, loss = 0.74107704\n",
            "Iteration 15, loss = 0.71891657\n",
            "Iteration 16, loss = 0.69721402\n",
            "Iteration 17, loss = 0.67877613\n",
            "Iteration 18, loss = 0.66962503\n",
            "Iteration 19, loss = 0.65894824\n",
            "Iteration 20, loss = 0.64686639\n"
          ]
        },
        {
          "name": "stderr",
          "output_type": "stream",
          "text": [
            "/usr/local/lib/python3.7/dist-packages/sklearn/neural_network/_multilayer_perceptron.py:696: ConvergenceWarning: Stochastic Optimizer: Maximum iterations (20) reached and the optimization hasn't converged yet.\n",
            "  ConvergenceWarning,\n"
          ]
        },
        {
          "data": {
            "text/plain": [
              "MLPClassifier(hidden_layer_sizes=(45, 2, 11), max_iter=20, verbose=True)"
            ]
          },
          "execution_count": 68,
          "metadata": {},
          "output_type": "execute_result"
        }
      ],
      "source": [
        "clf.fit(X_train, y_train)"
      ]
    },
    {
      "cell_type": "code",
      "execution_count": null,
      "metadata": {
        "id": "B1fbls3DQcmZ"
      },
      "outputs": [],
      "source": [
        "#Making predictions on the validation dataset\n",
        "y_pred = clf.predict(X_val)"
      ]
    },
    {
      "cell_type": "code",
      "execution_count": null,
      "metadata": {
        "id": "WkLSCcWlRT87"
      },
      "outputs": [],
      "source": [
        "#Building the confusion matrix to enable accuracy analysis\n",
        "cm = confusion_matrix(y_pred, y_val)"
      ]
    },
    {
      "cell_type": "code",
      "execution_count": null,
      "metadata": {
        "colab": {
          "base_uri": "https://localhost:8080/"
        },
        "id": "dnIM_HyqRUDI",
        "outputId": "c3c091ff-b92a-4acc-fb8e-f9621d6ce9af"
      },
      "outputs": [
        {
          "name": "stdout",
          "output_type": "stream",
          "text": [
            "Accuracy of MLPClassifier : 0.5263857251328777\n"
          ]
        }
      ],
      "source": [
        "#Displaying the accuracy of our classifier\n",
        "print(\"Accuracy of MLPClassifier : \" + str(accuracy(cm)))"
      ]
    },
    {
      "cell_type": "markdown",
      "metadata": {
        "id": "3N3aMjeITbEe"
      },
      "source": [
        "## Trying out more training iterations with the best combination of hyperparameters"
      ]
    },
    {
      "cell_type": "code",
      "execution_count": null,
      "metadata": {
        "colab": {
          "base_uri": "https://localhost:8080/"
        },
        "id": "HmX8Zf8JTXzz",
        "outputId": "ea6d07ff-1e30-49a8-fafa-595defdef378"
      },
      "outputs": [
        {
          "name": "stdout",
          "output_type": "stream",
          "text": [
            "Iteration 1, loss = 1.86643251\n",
            "Iteration 2, loss = 1.04719360\n",
            "Iteration 3, loss = 0.71290731\n",
            "Iteration 4, loss = 0.50117845\n",
            "Iteration 5, loss = 0.35464935\n",
            "Iteration 6, loss = 0.25571680\n",
            "Iteration 7, loss = 0.18787229\n",
            "Iteration 8, loss = 0.14495395\n",
            "Iteration 9, loss = 0.11123667\n",
            "Iteration 10, loss = 0.08997660\n",
            "Iteration 11, loss = 0.07498049\n",
            "Iteration 12, loss = 0.06319099\n",
            "Iteration 13, loss = 0.05650948\n",
            "Iteration 14, loss = 0.05521076\n",
            "Iteration 15, loss = 0.04220891\n",
            "Iteration 16, loss = 0.03804936\n",
            "Iteration 17, loss = 0.03520397\n",
            "Iteration 18, loss = 0.03178273\n",
            "Iteration 19, loss = 0.03157789\n",
            "Iteration 20, loss = 0.04013598\n",
            "Iteration 21, loss = 0.03112189\n",
            "Iteration 22, loss = 0.03640576\n",
            "Iteration 23, loss = 0.02979038\n",
            "Iteration 24, loss = 0.02676703\n",
            "Iteration 25, loss = 0.02483379\n",
            "Iteration 26, loss = 0.02297110\n",
            "Iteration 27, loss = 0.02380501\n",
            "Iteration 28, loss = 0.02174981\n",
            "Iteration 29, loss = 0.02130688\n",
            "Iteration 30, loss = 0.02045635\n",
            "Iteration 31, loss = 0.01872849\n",
            "Iteration 32, loss = 0.01972227\n",
            "Iteration 33, loss = 0.02188564\n",
            "Iteration 34, loss = 0.02099103\n",
            "Iteration 35, loss = 0.01850955\n",
            "Iteration 36, loss = 0.02406826\n",
            "Iteration 37, loss = 0.02320415\n",
            "Iteration 38, loss = 0.01785539\n",
            "Iteration 39, loss = 0.01659261\n",
            "Iteration 40, loss = 0.01835247\n",
            "Iteration 41, loss = 0.01630193\n",
            "Iteration 42, loss = 0.01664144\n",
            "Iteration 43, loss = 0.01607822\n",
            "Iteration 44, loss = 0.02591510\n",
            "Iteration 45, loss = 0.01663116\n",
            "Iteration 46, loss = 0.01530563\n",
            "Iteration 47, loss = 0.01532495\n",
            "Iteration 48, loss = 0.01505985\n",
            "Iteration 49, loss = 0.01591492\n",
            "Iteration 50, loss = 0.01658289\n",
            "Iteration 51, loss = 0.01430096\n",
            "Iteration 52, loss = 0.01444517\n",
            "Iteration 53, loss = 0.01582281\n",
            "Iteration 54, loss = 0.03320423\n",
            "Iteration 55, loss = 0.01531409\n",
            "Iteration 56, loss = 0.01422079\n",
            "Iteration 57, loss = 0.01373491\n",
            "Iteration 58, loss = 0.01356388\n",
            "Iteration 59, loss = 0.01344967\n",
            "Iteration 60, loss = 0.01406810\n",
            "Iteration 61, loss = 0.01762254\n",
            "Iteration 62, loss = 0.03012740\n",
            "Iteration 63, loss = 0.01324965\n",
            "Iteration 64, loss = 0.01305089\n",
            "Iteration 65, loss = 0.01273042\n",
            "Iteration 66, loss = 0.01464173\n",
            "Iteration 67, loss = 0.01436956\n",
            "Iteration 68, loss = 0.01264501\n",
            "Iteration 69, loss = 0.01245067\n",
            "Iteration 70, loss = 0.01503960\n",
            "Iteration 71, loss = 0.01285741\n",
            "Iteration 72, loss = 0.01222216\n",
            "Iteration 73, loss = 0.01218730\n",
            "Iteration 74, loss = 0.01198199\n",
            "Iteration 75, loss = 0.01722092\n",
            "Iteration 76, loss = 0.02469806\n",
            "Iteration 77, loss = 0.01468839\n",
            "Iteration 78, loss = 0.01207910\n",
            "Iteration 79, loss = 0.01198217\n",
            "Iteration 80, loss = 0.01180984\n",
            "Iteration 81, loss = 0.01224084\n",
            "Iteration 82, loss = 0.01175038\n",
            "Iteration 83, loss = 0.01247433\n",
            "Iteration 84, loss = 0.01194935\n",
            "Iteration 85, loss = 0.01444176\n",
            "Iteration 86, loss = 0.01312578\n",
            "Iteration 87, loss = 0.01317091\n",
            "Iteration 88, loss = 0.01362969\n",
            "Iteration 89, loss = 0.01738096\n",
            "Iteration 90, loss = 0.01323306\n",
            "Iteration 91, loss = 0.01139557\n",
            "Iteration 92, loss = 0.01129604\n",
            "Iteration 93, loss = 0.01893780\n",
            "Iteration 94, loss = 0.01166617\n",
            "Iteration 95, loss = 0.02115600\n",
            "Iteration 96, loss = 0.01156674\n",
            "Iteration 97, loss = 0.01112197\n",
            "Iteration 98, loss = 0.01105601\n",
            "Iteration 99, loss = 0.01417274\n",
            "Iteration 100, loss = 0.02740015\n"
          ]
        },
        {
          "name": "stderr",
          "output_type": "stream",
          "text": [
            "/usr/local/lib/python3.7/dist-packages/sklearn/neural_network/_multilayer_perceptron.py:696: ConvergenceWarning: Stochastic Optimizer: Maximum iterations (100) reached and the optimization hasn't converged yet.\n",
            "  ConvergenceWarning,\n"
          ]
        },
        {
          "data": {
            "text/plain": [
              "MLPClassifier(max_iter=100, verbose=True)"
            ]
          },
          "execution_count": 73,
          "metadata": {},
          "output_type": "execute_result"
        }
      ],
      "source": [
        "#Allowing for 100 training iterations\n",
        "clf = MLPClassifier(activation='relu', solver='adam', learning_rate='constant', max_iter=100, verbose=True)\n",
        "clf.fit(X_train, y_train)"
      ]
    },
    {
      "cell_type": "code",
      "execution_count": null,
      "metadata": {
        "id": "tKvkNp3nTaEw"
      },
      "outputs": [],
      "source": [
        "#Making predictions on the validation dataset\n",
        "y_pred = clf.predict(X_val)"
      ]
    },
    {
      "cell_type": "code",
      "execution_count": null,
      "metadata": {
        "id": "KgE_EuEcTaKD"
      },
      "outputs": [],
      "source": [
        "#Building the confusion matrix to enable accuracy analysis\n",
        "cm = confusion_matrix(y_pred, y_val)"
      ]
    },
    {
      "cell_type": "code",
      "execution_count": null,
      "metadata": {
        "colab": {
          "base_uri": "https://localhost:8080/"
        },
        "id": "fpJ_6hJtTaPN",
        "outputId": "e1d06573-0d1e-4fad-ea12-fff49e61c80f"
      },
      "outputs": [
        {
          "name": "stdout",
          "output_type": "stream",
          "text": [
            "Accuracy of MLPClassifier : 0.8686408504176157\n"
          ]
        }
      ],
      "source": [
        "#Displaying the accuracy of our classifier\n",
        "print(\"Accuracy of MLPClassifier : \" + str(accuracy(cm)))"
      ]
    },
    {
      "cell_type": "markdown",
      "metadata": {
        "id": "yC67SlNN6jZ4"
      },
      "source": [
        "## Optimizing the hyperparameters via GridSearchCV"
      ]
    },
    {
      "cell_type": "code",
      "execution_count": null,
      "metadata": {
        "id": "C6m6XheY6iQf"
      },
      "outputs": [],
      "source": [
        "mlp_gs = MLPClassifier(max_iter=1)"
      ]
    },
    {
      "cell_type": "code",
      "execution_count": null,
      "metadata": {
        "id": "sLLl6ZodTX46"
      },
      "outputs": [],
      "source": [
        "#Setting the parameters we want to test\n",
        "parameter_space = {\n",
        "    'hidden_layer_sizes': [(10,30,10),(20,)],\n",
        "    'activation': ['tanh', 'relu'],\n",
        "    'solver': ['sgd', 'adam'],\n",
        "    'momentum': np.arange(0.1, 1.1, 0.1),\n",
        "    'alpha': [0.1, 0.05],\n",
        "    'learning_rate': ['constant','adaptive'],\n",
        "}"
      ]
    },
    {
      "cell_type": "code",
      "execution_count": null,
      "metadata": {
        "colab": {
          "base_uri": "https://localhost:8080/"
        },
        "id": "92paYUs96bcB",
        "outputId": "e6970a6b-97eb-4fe8-c595-8bd28558afd4"
      },
      "outputs": [
        {
          "name": "stderr",
          "output_type": "stream",
          "text": [
            "/usr/local/lib/python3.7/dist-packages/sklearn/model_selection/_split.py:680: UserWarning: The least populated class in y has only 1 members, which is less than n_splits=5.\n",
            "  UserWarning,\n",
            "/usr/local/lib/python3.7/dist-packages/sklearn/neural_network/_multilayer_perceptron.py:696: ConvergenceWarning: Stochastic Optimizer: Maximum iterations (1) reached and the optimization hasn't converged yet.\n",
            "  ConvergenceWarning,\n"
          ]
        },
        {
          "data": {
            "text/plain": [
              "GridSearchCV(cv=5, estimator=MLPClassifier(max_iter=1), n_jobs=-1,\n",
              "             param_grid={'activation': ['tanh', 'relu'], 'alpha': [0.1, 0.05],\n",
              "                         'hidden_layer_sizes': [(10, 30, 10), (20,)],\n",
              "                         'learning_rate': ['constant', 'adaptive'],\n",
              "                         'momentum': array([0.1, 0.2, 0.3, 0.4, 0.5, 0.6, 0.7, 0.8, 0.9, 1. ]),\n",
              "                         'solver': ['sgd', 'adam']},\n",
              "             scoring='accuracy')"
            ]
          },
          "execution_count": 79,
          "metadata": {},
          "output_type": "execute_result"
        }
      ],
      "source": [
        "#Implementing the GridSearch algorithm\n",
        "grid = GridSearchCV(mlp_gs, parameter_space, n_jobs=-1, cv=5, scoring='accuracy')\n",
        "grid.fit(X_train, y_train)"
      ]
    },
    {
      "cell_type": "code",
      "execution_count": null,
      "metadata": {
        "colab": {
          "base_uri": "https://localhost:8080/"
        },
        "id": "kL-_1HJx6biD",
        "outputId": "06c3e4b9-ea75-48f6-cc3c-392b126c58d4"
      },
      "outputs": [
        {
          "name": "stdout",
          "output_type": "stream",
          "text": [
            "Best parameters found:\n",
            " {'activation': 'relu', 'alpha': 0.05, 'hidden_layer_sizes': (20,), 'learning_rate': 'constant', 'momentum': 0.8, 'solver': 'adam'}\n"
          ]
        }
      ],
      "source": [
        "#Displaying the best combination of parameters found via GridSearchCV\n",
        "print('Best parameters found:\\n', grid.best_params_)"
      ]
    },
    {
      "cell_type": "markdown",
      "metadata": {
        "id": "7zGBdm-JDakM"
      },
      "source": [
        "## Repeating the training with the hyperparametes found by GridSearchCv"
      ]
    },
    {
      "cell_type": "code",
      "execution_count": null,
      "metadata": {
        "id": "QrLY48_cC_Hs"
      },
      "outputs": [],
      "source": [
        "clf = MLPClassifier(activation='relu', solver='adam', alpha=0.0001, learning_rate='constant', momentum = 0.8,  max_iter=20, verbose=True)"
      ]
    },
    {
      "cell_type": "code",
      "execution_count": null,
      "metadata": {
        "colab": {
          "base_uri": "https://localhost:8080/"
        },
        "id": "RdVxXiUrC_L-",
        "outputId": "9c4e0506-838d-41da-d587-9c20d6296b39"
      },
      "outputs": [
        {
          "name": "stdout",
          "output_type": "stream",
          "text": [
            "Iteration 1, loss = 1.84114316\n",
            "Iteration 2, loss = 1.03768488\n",
            "Iteration 3, loss = 0.72586904\n",
            "Iteration 4, loss = 0.52004368\n",
            "Iteration 5, loss = 0.37168588\n",
            "Iteration 6, loss = 0.26343380\n",
            "Iteration 7, loss = 0.19423632\n",
            "Iteration 8, loss = 0.14691283\n",
            "Iteration 9, loss = 0.11809418\n",
            "Iteration 10, loss = 0.09419642\n",
            "Iteration 11, loss = 0.07597847\n",
            "Iteration 12, loss = 0.06326646\n",
            "Iteration 13, loss = 0.05727993\n",
            "Iteration 14, loss = 0.05380513\n",
            "Iteration 15, loss = 0.04255692\n",
            "Iteration 16, loss = 0.03924480\n",
            "Iteration 17, loss = 0.03641198\n",
            "Iteration 18, loss = 0.03153515\n",
            "Iteration 19, loss = 0.03200428\n",
            "Iteration 20, loss = 0.02847202\n"
          ]
        },
        {
          "name": "stderr",
          "output_type": "stream",
          "text": [
            "/usr/local/lib/python3.7/dist-packages/sklearn/neural_network/_multilayer_perceptron.py:696: ConvergenceWarning: Stochastic Optimizer: Maximum iterations (20) reached and the optimization hasn't converged yet.\n",
            "  ConvergenceWarning,\n"
          ]
        },
        {
          "data": {
            "text/plain": [
              "MLPClassifier(max_iter=20, momentum=0.8, verbose=True)"
            ]
          },
          "execution_count": 82,
          "metadata": {},
          "output_type": "execute_result"
        }
      ],
      "source": [
        "clf.fit(X_train, y_train)"
      ]
    },
    {
      "cell_type": "code",
      "execution_count": null,
      "metadata": {
        "id": "rGks5hkBTX9x"
      },
      "outputs": [],
      "source": [
        "#Making predictions on the validation dataset\n",
        "y_pred = clf.predict(X_val)"
      ]
    },
    {
      "cell_type": "code",
      "execution_count": null,
      "metadata": {
        "id": "5LBcdg6IER75"
      },
      "outputs": [],
      "source": [
        "#Building the confusion matrix to enable accuracy analysis\n",
        "cm = confusion_matrix(y_pred, y_val)"
      ]
    },
    {
      "cell_type": "code",
      "execution_count": null,
      "metadata": {
        "colab": {
          "base_uri": "https://localhost:8080/"
        },
        "id": "12vjAy1ZESFk",
        "outputId": "8cb37465-8aac-4761-fde9-03a805ba63d1"
      },
      "outputs": [
        {
          "name": "stdout",
          "output_type": "stream",
          "text": [
            "Accuracy of MLPClassifier : 0.8669324221716022\n"
          ]
        }
      ],
      "source": [
        "#Displaying the accuracy of our classifier\n",
        "print(\"Accuracy of MLPClassifier : \" + str(accuracy(cm)))"
      ]
    },
    {
      "cell_type": "markdown",
      "metadata": {
        "id": "8Xl1tj2c1QWO"
      },
      "source": [
        "## Repeating the GridSearch, with a different hyperparameters space"
      ]
    },
    {
      "cell_type": "code",
      "execution_count": null,
      "metadata": {
        "id": "AF9G38AkI5BE"
      },
      "outputs": [],
      "source": [
        "mlp_gs = MLPClassifier(max_iter=1)"
      ]
    },
    {
      "cell_type": "code",
      "execution_count": null,
      "metadata": {
        "id": "G98wcvenI5GA"
      },
      "outputs": [],
      "source": [
        "#Now we want to check different hidden layers arrangements, and activation functions\n",
        "parameter_space = {\n",
        "    'hidden_layer_sizes': [(10,30,10),(50,50,50),(50,100,50)],\n",
        "    'activation': ['tanh', 'relu'],\n",
        "}"
      ]
    },
    {
      "cell_type": "code",
      "execution_count": null,
      "metadata": {
        "colab": {
          "base_uri": "https://localhost:8080/"
        },
        "id": "cJzmDGZgESYj",
        "outputId": "733d159b-d2d3-487e-fede-04fc7070ae3d"
      },
      "outputs": [
        {
          "name": "stderr",
          "output_type": "stream",
          "text": [
            "/usr/local/lib/python3.7/dist-packages/sklearn/model_selection/_split.py:680: UserWarning: The least populated class in y has only 1 members, which is less than n_splits=5.\n",
            "  UserWarning,\n",
            "/usr/local/lib/python3.7/dist-packages/sklearn/neural_network/_multilayer_perceptron.py:696: ConvergenceWarning: Stochastic Optimizer: Maximum iterations (1) reached and the optimization hasn't converged yet.\n",
            "  ConvergenceWarning,\n"
          ]
        },
        {
          "data": {
            "text/plain": [
              "GridSearchCV(cv=5, estimator=MLPClassifier(max_iter=1), n_jobs=-1,\n",
              "             param_grid={'activation': ['tanh', 'relu'],\n",
              "                         'hidden_layer_sizes': [(10, 30, 10), (50, 50, 50),\n",
              "                                                (50, 100, 50)]},\n",
              "             scoring='accuracy')"
            ]
          },
          "execution_count": 24,
          "metadata": {},
          "output_type": "execute_result"
        }
      ],
      "source": [
        "#Implementing the GridSearch algorithm\n",
        "grid = GridSearchCV(mlp_gs, parameter_space, n_jobs=-1, cv=5, scoring='accuracy')\n",
        "grid.fit(X_train, y_train)"
      ]
    },
    {
      "cell_type": "code",
      "execution_count": null,
      "metadata": {
        "colab": {
          "base_uri": "https://localhost:8080/"
        },
        "id": "y6Yby1km1aay",
        "outputId": "a9f30554-d658-472d-9946-dfa5e18ab10c"
      },
      "outputs": [
        {
          "name": "stdout",
          "output_type": "stream",
          "text": [
            "Best parameters found:\n",
            " {'activation': 'tanh', 'hidden_layer_sizes': (50, 100, 50)}\n"
          ]
        }
      ],
      "source": [
        "#Displaying the best combination of parameters found via GridSearchCV\n",
        "print('Best parameters found:\\n', grid.best_params_)"
      ]
    },
    {
      "cell_type": "markdown",
      "metadata": {
        "id": "mMO7Yz_IuTqI"
      },
      "source": [
        "## Repeating the training with the hyperparameters newly found via GridSearch"
      ]
    },
    {
      "cell_type": "code",
      "execution_count": null,
      "metadata": {
        "id": "khHqveX-1adh"
      },
      "outputs": [],
      "source": [
        "clf = MLPClassifier(activation='tanh', solver='adam', alpha=0.0001, learning_rate='constant', momentum = 0.8,  max_iter=20, hidden_layer_sizes = (50, 100, 50), verbose=True)"
      ]
    },
    {
      "cell_type": "code",
      "execution_count": null,
      "metadata": {
        "colab": {
          "base_uri": "https://localhost:8080/"
        },
        "id": "ptzHQCHZ1aij",
        "outputId": "c6117fb5-1b78-46a1-b31c-e3f72276ff82"
      },
      "outputs": [
        {
          "name": "stdout",
          "output_type": "stream",
          "text": [
            "Iteration 1, loss = 1.66349406\n",
            "Iteration 2, loss = 0.64929960\n",
            "Iteration 3, loss = 0.26051677\n",
            "Iteration 4, loss = 0.11499098\n",
            "Iteration 5, loss = 0.06915517\n",
            "Iteration 6, loss = 0.05184725\n",
            "Iteration 7, loss = 0.05603417\n",
            "Iteration 8, loss = 0.04884299\n",
            "Iteration 9, loss = 0.03092477\n",
            "Iteration 10, loss = 0.02520644\n",
            "Iteration 11, loss = 0.02124375\n",
            "Iteration 12, loss = 0.01834753\n",
            "Iteration 13, loss = 0.01840530\n",
            "Iteration 14, loss = 0.01528731\n",
            "Iteration 15, loss = 0.01462724\n",
            "Iteration 16, loss = 0.01453732\n",
            "Iteration 17, loss = 0.01474474\n",
            "Iteration 18, loss = 0.01260616\n",
            "Iteration 19, loss = 0.01218674\n",
            "Iteration 20, loss = 0.01252766\n"
          ]
        },
        {
          "name": "stderr",
          "output_type": "stream",
          "text": [
            "/usr/local/lib/python3.7/dist-packages/sklearn/neural_network/_multilayer_perceptron.py:696: ConvergenceWarning: Stochastic Optimizer: Maximum iterations (20) reached and the optimization hasn't converged yet.\n",
            "  ConvergenceWarning,\n"
          ]
        },
        {
          "data": {
            "text/plain": [
              "MLPClassifier(activation='tanh', hidden_layer_sizes=(50, 100, 50), max_iter=20,\n",
              "              momentum=0.8, verbose=True)"
            ]
          },
          "execution_count": 29,
          "metadata": {},
          "output_type": "execute_result"
        }
      ],
      "source": [
        "clf.fit(X_train, y_train)"
      ]
    },
    {
      "cell_type": "code",
      "execution_count": null,
      "metadata": {
        "id": "77uX4Tpl1alT"
      },
      "outputs": [],
      "source": [
        "#Making predictions on the validation dataset\n",
        "y_pred = clf.predict(X_val)"
      ]
    },
    {
      "cell_type": "code",
      "execution_count": null,
      "metadata": {
        "id": "U4MMquAsQcqh"
      },
      "outputs": [],
      "source": [
        "#Building the confusion matrix to enable accuracy analysis\n",
        "cm = confusion_matrix(y_pred, y_val)"
      ]
    },
    {
      "cell_type": "code",
      "execution_count": null,
      "metadata": {
        "colab": {
          "base_uri": "https://localhost:8080/"
        },
        "id": "AQYs3zhHLYHd",
        "outputId": "cd308aee-a0fd-41e8-eb51-c3d9cd06cdee"
      },
      "outputs": [
        {
          "name": "stdout",
          "output_type": "stream",
          "text": [
            "Accuracy of MLPClassifier : 0.863705391040243\n"
          ]
        }
      ],
      "source": [
        "#Displaying the accuracy of our classifier\n",
        "print(\"Accuracy of MLPClassifier : \" + str(accuracy(cm)))"
      ]
    },
    {
      "cell_type": "markdown",
      "metadata": {
        "id": "r4xQTMlUJTNj"
      },
      "source": [
        "## Trying a different hidden layers arrangement "
      ]
    },
    {
      "cell_type": "code",
      "execution_count": null,
      "metadata": {
        "id": "mE0k7OaCxSj2"
      },
      "outputs": [],
      "source": [
        "#We re-implement the classifer with the following hidden layer sizes: 100, 200, 100\n",
        "clf = MLPClassifier(activation='tanh', solver='adam', alpha=0.0001, learning_rate='constant', momentum = 0.8,  max_iter=20, hidden_layer_sizes = (100, 200, 100), verbose=True)"
      ]
    },
    {
      "cell_type": "code",
      "execution_count": null,
      "metadata": {
        "colab": {
          "base_uri": "https://localhost:8080/"
        },
        "id": "M1aHP8B_xSre",
        "outputId": "6a90474b-1823-4a6e-9860-81574e5ee475"
      },
      "outputs": [
        {
          "name": "stdout",
          "output_type": "stream",
          "text": [
            "Iteration 1, loss = 1.29984218\n",
            "Iteration 2, loss = 0.43278266\n",
            "Iteration 3, loss = 0.14477420\n",
            "Iteration 4, loss = 0.05739199\n",
            "Iteration 5, loss = 0.03672329\n",
            "Iteration 6, loss = 0.02412209\n",
            "Iteration 7, loss = 0.02011321\n",
            "Iteration 8, loss = 0.01743804\n",
            "Iteration 9, loss = 0.01570441\n",
            "Iteration 10, loss = 0.01397362\n",
            "Iteration 11, loss = 0.01356790\n",
            "Iteration 12, loss = 0.01291282\n",
            "Iteration 13, loss = 0.01325305\n",
            "Iteration 14, loss = 0.01097549\n",
            "Iteration 15, loss = 0.01026714\n",
            "Iteration 16, loss = 0.01166393\n",
            "Iteration 17, loss = 0.01099745\n",
            "Iteration 18, loss = 0.01449707\n",
            "Iteration 19, loss = 0.01298245\n",
            "Iteration 20, loss = 0.01139396\n"
          ]
        },
        {
          "name": "stderr",
          "output_type": "stream",
          "text": [
            "/usr/local/lib/python3.7/dist-packages/sklearn/neural_network/_multilayer_perceptron.py:696: ConvergenceWarning: Stochastic Optimizer: Maximum iterations (20) reached and the optimization hasn't converged yet.\n",
            "  ConvergenceWarning,\n"
          ]
        },
        {
          "data": {
            "text/plain": [
              "MLPClassifier(activation='tanh', hidden_layer_sizes=(100, 200, 100),\n",
              "              max_iter=20, momentum=0.8, verbose=True)"
            ]
          },
          "execution_count": 37,
          "metadata": {},
          "output_type": "execute_result"
        }
      ],
      "source": [
        "clf.fit(X_train, y_train)"
      ]
    },
    {
      "cell_type": "code",
      "execution_count": null,
      "metadata": {
        "id": "extZAkORxNqH"
      },
      "outputs": [],
      "source": [
        "#Making predictions on the validation dataset\n",
        "y_pred = clf.predict(X_val)"
      ]
    },
    {
      "cell_type": "code",
      "execution_count": null,
      "metadata": {
        "id": "U5UVU-56xNzi"
      },
      "outputs": [],
      "source": [
        "#Building the confusion matrix to enable accuracy analysis\n",
        "cm = confusion_matrix(y_pred, y_val)"
      ]
    },
    {
      "cell_type": "code",
      "execution_count": null,
      "metadata": {
        "colab": {
          "base_uri": "https://localhost:8080/"
        },
        "id": "Wxo3sIvCxN7X",
        "outputId": "99ee91fd-2b72-44e2-d36b-f299cf6999bb"
      },
      "outputs": [
        {
          "name": "stdout",
          "output_type": "stream",
          "text": [
            "Accuracy of MLPClassifier : 0.8654138192862566\n"
          ]
        }
      ],
      "source": [
        "#Displaying the accuracy of our classifier\n",
        "print(\"Accuracy of MLPClassifier : \" + str(accuracy(cm)))"
      ]
    },
    {
      "cell_type": "markdown",
      "metadata": {
        "id": "s4FKwyw424VW"
      },
      "source": [
        "## Repeating the GridSearch with different hidden layer arrangements to investigate"
      ]
    },
    {
      "cell_type": "code",
      "execution_count": null,
      "metadata": {
        "id": "HbKKRvFPyMMJ"
      },
      "outputs": [],
      "source": [
        "mlp_gs = MLPClassifier(max_iter=1)"
      ]
    },
    {
      "cell_type": "code",
      "execution_count": null,
      "metadata": {
        "id": "EvUYT_WT215W"
      },
      "outputs": [],
      "source": [
        "#Now we want to check different hidden layers arrangements and different alpha parameter values\n",
        "parameter_space = {\n",
        "    'hidden_layer_sizes': [(50,100,50), (100,200,100), (50,100,100,50)],\n",
        "    'alpha': [0.0001, 0.001, 0.1],\n",
        "}"
      ]
    },
    {
      "cell_type": "code",
      "execution_count": null,
      "metadata": {
        "colab": {
          "base_uri": "https://localhost:8080/"
        },
        "id": "9jwJQP8H21_0",
        "outputId": "ae80c9e2-8cbf-4336-e806-00f6409658b3"
      },
      "outputs": [
        {
          "name": "stderr",
          "output_type": "stream",
          "text": [
            "/usr/local/lib/python3.7/dist-packages/sklearn/model_selection/_split.py:680: UserWarning: The least populated class in y has only 1 members, which is less than n_splits=5.\n",
            "  UserWarning,\n",
            "/usr/local/lib/python3.7/dist-packages/joblib/externals/loky/process_executor.py:703: UserWarning: A worker stopped while some jobs were given to the executor. This can be caused by a too short worker timeout or by a memory leak.\n",
            "  \"timeout or by a memory leak.\", UserWarning\n",
            "/usr/local/lib/python3.7/dist-packages/sklearn/neural_network/_multilayer_perceptron.py:696: ConvergenceWarning: Stochastic Optimizer: Maximum iterations (1) reached and the optimization hasn't converged yet.\n",
            "  ConvergenceWarning,\n"
          ]
        },
        {
          "data": {
            "text/plain": [
              "GridSearchCV(cv=5, estimator=MLPClassifier(max_iter=1), n_jobs=-1,\n",
              "             param_grid={'alpha': [0.0001, 0.001, 0.1],\n",
              "                         'hidden_layer_sizes': [(50, 100, 50), (100, 200, 100),\n",
              "                                                (50, 100, 100, 50)]},\n",
              "             scoring='accuracy')"
            ]
          },
          "execution_count": 43,
          "metadata": {},
          "output_type": "execute_result"
        }
      ],
      "source": [
        "grid = GridSearchCV(mlp_gs, parameter_space, n_jobs=-1, cv=5, scoring='accuracy')\n",
        "grid.fit(X_train, y_train)"
      ]
    },
    {
      "cell_type": "code",
      "execution_count": null,
      "metadata": {
        "colab": {
          "base_uri": "https://localhost:8080/"
        },
        "id": "lTsEAlt022H_",
        "outputId": "6e448999-537e-48a5-c84c-a0c58ea3fd71"
      },
      "outputs": [
        {
          "name": "stdout",
          "output_type": "stream",
          "text": [
            "Best parameters found:\n",
            " {'alpha': 0.0001, 'hidden_layer_sizes': (100, 200, 100)}\n"
          ]
        }
      ],
      "source": [
        "#Displaying the best combination of parameters found via GridSearchCV\n",
        "print('Best parameters found:\\n', grid.best_params_)"
      ]
    },
    {
      "cell_type": "markdown",
      "metadata": {
        "id": "GhLb6D6g5eVG"
      },
      "source": [
        "## Repeating the training with the hyperparameters newly found via GridSearch"
      ]
    },
    {
      "cell_type": "code",
      "execution_count": null,
      "metadata": {
        "id": "u8P1FvLJ5TYp"
      },
      "outputs": [],
      "source": [
        "clf = MLPClassifier(activation='relu', solver='adam', alpha=0.0001, learning_rate='constant', momentum = 0.8,  max_iter=50, hidden_layer_sizes = (100, 200, 100), verbose=True)"
      ]
    },
    {
      "cell_type": "code",
      "execution_count": null,
      "metadata": {
        "colab": {
          "base_uri": "https://localhost:8080/"
        },
        "id": "dMcCM8_f5nmf",
        "outputId": "bb631b55-5132-4d78-cae2-edcd7c529017"
      },
      "outputs": [
        {
          "name": "stdout",
          "output_type": "stream",
          "text": [
            "Iteration 1, loss = 1.56659767\n",
            "Iteration 2, loss = 0.60225747\n",
            "Iteration 3, loss = 0.23427524\n",
            "Iteration 4, loss = 0.16593730\n",
            "Iteration 5, loss = 0.09740545\n",
            "Iteration 6, loss = 0.05014438\n",
            "Iteration 7, loss = 0.07440469\n",
            "Iteration 8, loss = 0.03056804\n",
            "Iteration 9, loss = 0.02555814\n",
            "Iteration 10, loss = 0.03492749\n",
            "Iteration 11, loss = 0.02399094\n",
            "Iteration 12, loss = 0.01818937\n",
            "Iteration 13, loss = 0.01814736\n",
            "Iteration 14, loss = 0.01779146\n",
            "Iteration 15, loss = 0.01594482\n",
            "Iteration 16, loss = 0.03517959\n",
            "Iteration 17, loss = 0.02166577\n",
            "Iteration 18, loss = 0.01362684\n",
            "Iteration 19, loss = 0.01502089\n",
            "Iteration 20, loss = 0.01212371\n",
            "Iteration 21, loss = 0.01150019\n",
            "Iteration 22, loss = 0.03835310\n",
            "Iteration 23, loss = 0.01441109\n",
            "Iteration 24, loss = 0.01106157\n",
            "Iteration 25, loss = 0.00819181\n",
            "Iteration 26, loss = 0.04096672\n",
            "Iteration 27, loss = 0.03085683\n",
            "Iteration 28, loss = 0.01299028\n",
            "Iteration 29, loss = 0.01010163\n",
            "Iteration 30, loss = 0.00752485\n",
            "Iteration 31, loss = 0.00788954\n",
            "Iteration 32, loss = 0.01772355\n",
            "Iteration 33, loss = 0.00699227\n",
            "Iteration 34, loss = 0.00651885\n",
            "Iteration 35, loss = 0.00659000\n",
            "Iteration 36, loss = 0.02315326\n",
            "Iteration 37, loss = 0.03105642\n",
            "Iteration 38, loss = 0.00818374\n",
            "Iteration 39, loss = 0.00695946\n",
            "Iteration 40, loss = 0.00632769\n",
            "Iteration 41, loss = 0.00753489\n",
            "Iteration 42, loss = 0.00637290\n",
            "Iteration 43, loss = 0.01263107\n",
            "Iteration 44, loss = 0.00741008\n",
            "Iteration 45, loss = 0.00639461\n",
            "Iteration 46, loss = 0.00636446\n",
            "Iteration 47, loss = 0.00612956\n",
            "Iteration 48, loss = 0.02623238\n",
            "Iteration 49, loss = 0.00906595\n",
            "Iteration 50, loss = 0.00640077\n"
          ]
        },
        {
          "name": "stderr",
          "output_type": "stream",
          "text": [
            "/usr/local/lib/python3.7/dist-packages/sklearn/neural_network/_multilayer_perceptron.py:696: ConvergenceWarning: Stochastic Optimizer: Maximum iterations (50) reached and the optimization hasn't converged yet.\n",
            "  ConvergenceWarning,\n"
          ]
        },
        {
          "data": {
            "text/plain": [
              "MLPClassifier(hidden_layer_sizes=(100, 200, 100), max_iter=50, momentum=0.8,\n",
              "              verbose=True)"
            ]
          },
          "execution_count": 46,
          "metadata": {},
          "output_type": "execute_result"
        }
      ],
      "source": [
        "clf.fit(X_train, y_train)"
      ]
    },
    {
      "cell_type": "code",
      "execution_count": null,
      "metadata": {
        "id": "RH3FMAyj6URf"
      },
      "outputs": [],
      "source": [
        "#Making predictions on the validation dataset\n",
        "y_pred = clf.predict(X_val)"
      ]
    },
    {
      "cell_type": "code",
      "execution_count": null,
      "metadata": {
        "id": "-DyJI-x_6UZC"
      },
      "outputs": [],
      "source": [
        "#Building the confusion matrix to enable accuracy analysis\n",
        "cm = confusion_matrix(y_pred, y_val)"
      ]
    },
    {
      "cell_type": "code",
      "execution_count": null,
      "metadata": {
        "colab": {
          "base_uri": "https://localhost:8080/"
        },
        "id": "n-f8B2v45nsD",
        "outputId": "dc7400d8-f759-49fa-a4f4-cb278fa051ca"
      },
      "outputs": [
        {
          "name": "stdout",
          "output_type": "stream",
          "text": [
            "Accuracy of MLPClassifier : 0.8602885345482156\n"
          ]
        }
      ],
      "source": [
        "#Displaying the accuracy of our classifier\n",
        "print(\"Accuracy of MLPClassifier : \" + str(accuracy(cm)))"
      ]
    },
    {
      "cell_type": "markdown",
      "metadata": {
        "id": "FLClxEe5LYOP"
      },
      "source": [
        "## Repeat the traning with the best combination of hyperparameters found, save the model, test on the test dataset"
      ]
    },
    {
      "cell_type": "code",
      "execution_count": 26,
      "metadata": {
        "colab": {
          "base_uri": "https://localhost:8080/"
        },
        "id": "zPbkWIq65Ti4",
        "outputId": "015d93b2-d2b2-4ed0-fc3b-aafc3616728e"
      },
      "outputs": [
        {
          "output_type": "stream",
          "name": "stdout",
          "text": [
            "Iteration 1, loss = 1.84235211\n",
            "Iteration 2, loss = 1.03498724\n",
            "Iteration 3, loss = 0.71169678\n",
            "Iteration 4, loss = 0.51038777\n",
            "Iteration 5, loss = 0.36557818\n",
            "Iteration 6, loss = 0.26555945\n",
            "Iteration 7, loss = 0.19551413\n",
            "Iteration 8, loss = 0.14825969\n",
            "Iteration 9, loss = 0.11698325\n",
            "Iteration 10, loss = 0.09192101\n",
            "Iteration 11, loss = 0.07899369\n",
            "Iteration 12, loss = 0.06669863\n",
            "Iteration 13, loss = 0.06022274\n",
            "Iteration 14, loss = 0.04892317\n",
            "Iteration 15, loss = 0.04478357\n",
            "Iteration 16, loss = 0.04214142\n",
            "Iteration 17, loss = 0.04469740\n",
            "Iteration 18, loss = 0.03468129\n",
            "Iteration 19, loss = 0.03157869\n",
            "Iteration 20, loss = 0.02952970\n",
            "Iteration 21, loss = 0.02794740\n",
            "Iteration 22, loss = 0.03586552\n",
            "Iteration 23, loss = 0.02536344\n",
            "Iteration 24, loss = 0.02354640\n",
            "Iteration 25, loss = 0.02417799\n",
            "Iteration 26, loss = 0.02294071\n",
            "Iteration 27, loss = 0.03124970\n",
            "Iteration 28, loss = 0.02697228\n",
            "Iteration 29, loss = 0.02118440\n",
            "Iteration 30, loss = 0.02133598\n",
            "Iteration 31, loss = 0.01949051\n",
            "Iteration 32, loss = 0.02036321\n",
            "Iteration 33, loss = 0.01835154\n",
            "Iteration 34, loss = 0.02027973\n",
            "Iteration 35, loss = 0.01801274\n",
            "Iteration 36, loss = 0.01756120\n",
            "Iteration 37, loss = 0.02839854\n",
            "Iteration 38, loss = 0.03159606\n",
            "Iteration 39, loss = 0.01754232\n",
            "Iteration 40, loss = 0.01675404\n",
            "Iteration 41, loss = 0.01915556\n",
            "Iteration 42, loss = 0.02011058\n",
            "Iteration 43, loss = 0.01679318\n",
            "Iteration 44, loss = 0.01580273\n",
            "Iteration 45, loss = 0.01529149\n",
            "Iteration 46, loss = 0.01507019\n",
            "Iteration 47, loss = 0.01604042\n",
            "Iteration 48, loss = 0.01506129\n",
            "Iteration 49, loss = 0.01609008\n",
            "Iteration 50, loss = 0.01791213\n",
            "Iteration 51, loss = 0.01679688\n",
            "Iteration 52, loss = 0.01480837\n",
            "Iteration 53, loss = 0.01959960\n",
            "Iteration 54, loss = 0.01804574\n",
            "Iteration 55, loss = 0.01401059\n",
            "Iteration 56, loss = 0.01490426\n",
            "Iteration 57, loss = 0.01664774\n",
            "Iteration 58, loss = 0.01327060\n",
            "Iteration 59, loss = 0.01286206\n",
            "Iteration 60, loss = 0.01286039\n",
            "Iteration 61, loss = 0.01289858\n",
            "Iteration 62, loss = 0.01269698\n",
            "Iteration 63, loss = 0.01384480\n",
            "Iteration 64, loss = 0.01292793\n",
            "Iteration 65, loss = 0.01287090\n",
            "Iteration 66, loss = 0.01716223\n",
            "Iteration 67, loss = 0.01387957\n",
            "Iteration 68, loss = 0.01357077\n",
            "Iteration 69, loss = 0.01522129\n",
            "Iteration 70, loss = 0.01207266\n",
            "Iteration 71, loss = 0.03017675\n",
            "Iteration 72, loss = 0.02362649\n",
            "Iteration 73, loss = 0.01443295\n",
            "Iteration 74, loss = 0.01223924\n",
            "Iteration 75, loss = 0.01177675\n",
            "Iteration 76, loss = 0.01186859\n",
            "Iteration 77, loss = 0.01172638\n",
            "Iteration 78, loss = 0.01531042\n",
            "Iteration 79, loss = 0.01170932\n",
            "Iteration 80, loss = 0.01141867\n",
            "Iteration 81, loss = 0.01210227\n",
            "Iteration 82, loss = 0.01126647\n",
            "Iteration 83, loss = 0.01680935\n",
            "Iteration 84, loss = 0.01796265\n",
            "Iteration 85, loss = 0.01558319\n",
            "Iteration 86, loss = 0.01257933\n",
            "Iteration 87, loss = 0.01228804\n",
            "Iteration 88, loss = 0.01733962\n",
            "Iteration 89, loss = 0.01116028\n",
            "Iteration 90, loss = 0.01125876\n",
            "Iteration 91, loss = 0.01110983\n",
            "Iteration 92, loss = 0.01093282\n",
            "Iteration 93, loss = 0.01099906\n",
            "Iteration 94, loss = 0.01080709\n",
            "Iteration 95, loss = 0.01082177\n",
            "Iteration 96, loss = 0.01138236\n",
            "Iteration 97, loss = 0.01196746\n",
            "Iteration 98, loss = 0.01507329\n",
            "Iteration 99, loss = 0.01359952\n",
            "Iteration 100, loss = 0.01570945\n"
          ]
        },
        {
          "output_type": "stream",
          "name": "stderr",
          "text": [
            "/usr/local/lib/python3.7/dist-packages/sklearn/neural_network/_multilayer_perceptron.py:696: ConvergenceWarning: Stochastic Optimizer: Maximum iterations (100) reached and the optimization hasn't converged yet.\n",
            "  ConvergenceWarning,\n"
          ]
        },
        {
          "output_type": "execute_result",
          "data": {
            "text/plain": [
              "MLPClassifier(max_iter=100, verbose=True)"
            ]
          },
          "metadata": {},
          "execution_count": 26
        }
      ],
      "source": [
        "#We are trying out the first combination of parameters for the MLPC on the Train dataset\n",
        "clf = MLPClassifier(activation='relu', solver='adam', max_iter=100, verbose=True)\n",
        "clf.fit(X_train, y_train)"
      ]
    },
    {
      "cell_type": "code",
      "execution_count": 27,
      "metadata": {
        "id": "TE_Bv82dLW1A"
      },
      "outputs": [],
      "source": [
        "#Making predictions on the validation dataset\n",
        "y_pred = clf.predict(X_val)"
      ]
    },
    {
      "cell_type": "code",
      "execution_count": 28,
      "metadata": {
        "id": "VMyh8PlnLW70"
      },
      "outputs": [],
      "source": [
        "#Building the confusion matrix to enable accuracy analysis\n",
        "from sklearn.metrics import confusion_matrix\n",
        "cm = confusion_matrix(y_pred, y_val)"
      ]
    },
    {
      "cell_type": "code",
      "execution_count": 29,
      "metadata": {
        "id": "eqXRTaaT5Tp_"
      },
      "outputs": [],
      "source": [
        "#Function calculate the accuracy on our predictions on the validation dataset\n",
        "def accuracy(confusion_matrix):\n",
        "   diagonal_sum = confusion_matrix.trace()\n",
        "   sum_of_all_elements = confusion_matrix.sum()\n",
        "   return diagonal_sum / sum_of_all_elements"
      ]
    },
    {
      "cell_type": "code",
      "execution_count": 30,
      "metadata": {
        "colab": {
          "base_uri": "https://localhost:8080/"
        },
        "id": "SFom7972yMWT",
        "outputId": "0beabdcf-15c2-4cc3-f9d6-66376921ae9c"
      },
      "outputs": [
        {
          "output_type": "stream",
          "name": "stdout",
          "text": [
            "Accuracy of MLPClassifier : 0.8714882308276386\n"
          ]
        }
      ],
      "source": [
        "#Displaying the accuracy of our classifier\n",
        "print(\"Accuracy of MLPClassifier : \" + str(accuracy(cm)))"
      ]
    },
    {
      "cell_type": "code",
      "execution_count": 31,
      "metadata": {
        "id": "0QqtBsLWJhvb"
      },
      "outputs": [],
      "source": [
        "import pickle"
      ]
    },
    {
      "cell_type": "code",
      "execution_count": 32,
      "metadata": {
        "id": "thXok7Tqlp3A"
      },
      "outputs": [],
      "source": [
        "pickle.dump(clf, open(\"/content/drive/My Drive/ML4NLP_Assignment1/v3_model_mlp_bestparams.sav\", \"wb\"))"
      ]
    },
    {
      "cell_type": "markdown",
      "source": [
        "## Load the saved model"
      ],
      "metadata": {
        "id": "ODmJeGssqHok"
      }
    },
    {
      "cell_type": "code",
      "source": [
        "loaded_model = pickle.load(open(\"/content/drive/My Drive/ML4NLP_Assignment1/v3_model_mlp_bestparams.sav\", \"rb\"))"
      ],
      "metadata": {
        "id": "mCxU4MQfpn3P"
      },
      "execution_count": 33,
      "outputs": []
    },
    {
      "cell_type": "code",
      "source": [
        "y_pred = loaded_model.predict(X_val)"
      ],
      "metadata": {
        "id": "G20gZgLSqHGk"
      },
      "execution_count": 34,
      "outputs": []
    },
    {
      "cell_type": "code",
      "source": [
        "#y_val"
      ],
      "metadata": {
        "id": "158Q4W5D2q-H"
      },
      "execution_count": null,
      "outputs": []
    },
    {
      "cell_type": "code",
      "source": [
        "print(y_pred)"
      ],
      "metadata": {
        "colab": {
          "base_uri": "https://localhost:8080/"
        },
        "id": "cEOS5Far2m4Z",
        "outputId": "f029bf80-db46-4199-b89b-56440d6edfda"
      },
      "execution_count": 35,
      "outputs": [
        {
          "output_type": "stream",
          "name": "stdout",
          "text": [
            "[32 32 50 ... 32 13 66]\n"
          ]
        }
      ]
    },
    {
      "cell_type": "code",
      "source": [
        "#Building the confusion matrix to enable accuracy analysis\n",
        "from sklearn.metrics import confusion_matrix\n",
        "cm = confusion_matrix(y_pred, y_val)"
      ],
      "metadata": {
        "id": "7sAVI1A2qHM7"
      },
      "execution_count": 36,
      "outputs": []
    },
    {
      "cell_type": "code",
      "source": [
        "print(cm)"
      ],
      "metadata": {
        "colab": {
          "base_uri": "https://localhost:8080/"
        },
        "id": "gEcaYPgPNOiH",
        "outputId": "8c0a7bd8-ee6c-4d84-a5eb-fa3a26edff3d"
      },
      "execution_count": 37,
      "outputs": [
        {
          "output_type": "stream",
          "name": "stdout",
          "text": [
            "[[188   0   0 ...   0   0   0]\n",
            " [  0   0   0 ...   0   0   0]\n",
            " [  0   0   0 ...   0   0   0]\n",
            " ...\n",
            " [  0   0   0 ...   0   0   0]\n",
            " [  0   0   0 ...   0   2   0]\n",
            " [  0   0   0 ...   0   0   0]]\n"
          ]
        }
      ]
    },
    {
      "cell_type": "code",
      "execution_count": 38,
      "metadata": {
        "id": "4gp5wn3-lp-h"
      },
      "outputs": [],
      "source": [
        "#Function calculate the accuracy on our predictions on the validation dataset\n",
        "def accuracy(confusion_matrix):\n",
        "   diagonal_sum = confusion_matrix.trace()\n",
        "   sum_of_all_elements = confusion_matrix.sum()\n",
        "   return diagonal_sum / sum_of_all_elements"
      ]
    },
    {
      "cell_type": "code",
      "execution_count": 39,
      "metadata": {
        "id": "U8b9L5meJ5lB",
        "colab": {
          "base_uri": "https://localhost:8080/"
        },
        "outputId": "80fc583f-ff44-45ff-c078-d91842324a48"
      },
      "outputs": [
        {
          "output_type": "stream",
          "name": "stdout",
          "text": [
            "Accuracy of MLPClassifier : 0.8714882308276386\n"
          ]
        }
      ],
      "source": [
        "#Displaying the accuracy of our classifier\n",
        "print(\"Accuracy of MLPClassifier : \" + str(accuracy(cm)))"
      ]
    },
    {
      "cell_type": "markdown",
      "source": [
        "## Testing on the test dataset (y_test)"
      ],
      "metadata": {
        "id": "OM6yK20vLH2N"
      }
    },
    {
      "cell_type": "code",
      "execution_count": 40,
      "metadata": {
        "id": "-ZR2QvbPJ5sB"
      },
      "outputs": [],
      "source": [
        "y_test_pred = loaded_model.predict(X_test)"
      ]
    },
    {
      "cell_type": "code",
      "source": [
        "#Building the confusion matrix to enable accuracy analysis\n",
        "from sklearn.metrics import confusion_matrix\n",
        "cm = confusion_matrix(y_test_pred, y_test)"
      ],
      "metadata": {
        "id": "j7CsMfneucNt"
      },
      "execution_count": 41,
      "outputs": []
    },
    {
      "cell_type": "code",
      "source": [
        "#Displaying the accuracy of our classifier\n",
        "print(\"Accuracy of MLPClassifier : \" + str(accuracy(cm)))"
      ],
      "metadata": {
        "colab": {
          "base_uri": "https://localhost:8080/"
        },
        "id": "LMqf67FWP3n_",
        "outputId": "53ff18f2-d13e-467b-9b05-88c5d5ca8d1d"
      },
      "execution_count": 42,
      "outputs": [
        {
          "output_type": "stream",
          "name": "stdout",
          "text": [
            "Accuracy of MLPClassifier : 0.8628765060240964\n"
          ]
        }
      ]
    }
  ],
  "metadata": {
    "accelerator": "GPU",
    "colab": {
      "machine_shape": "hm",
      "provenance": [],
      "collapsed_sections": [
        "_L4Z3_AiDake",
        "Dz4eXc1TEOTi",
        "pUL2gYlWBptS",
        "Pd5cIbYPHJgz",
        "omLaMQmcLazk",
        "EPC9MwbsQdQe",
        "3N3aMjeITbEe",
        "yC67SlNN6jZ4",
        "7zGBdm-JDakM",
        "8Xl1tj2c1QWO",
        "mMO7Yz_IuTqI",
        "r4xQTMlUJTNj",
        "s4FKwyw424VW"
      ]
    },
    "gpuClass": "premium",
    "kernelspec": {
      "display_name": "Python 3",
      "name": "python3"
    },
    "language_info": {
      "name": "python"
    }
  },
  "nbformat": 4,
  "nbformat_minor": 0
}